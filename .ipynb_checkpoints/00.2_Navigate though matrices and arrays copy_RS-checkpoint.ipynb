{
 "cells": [
  {
   "cell_type": "code",
   "execution_count": 2,
   "metadata": {},
   "outputs": [],
   "source": [
    "bw.projects.set_current(\"B4B18\")\n",
    "if bw.Database(\"testdb\"):\n",
    "    bw.Database(\"testdb\").delete()\n",
    "t_db = bw.Database(\"testdb\")"
   ]
  },
  {
   "cell_type": "code",
   "execution_count": 3,
   "metadata": {},
   "outputs": [
    {
     "name": "stderr",
     "output_type": "stream",
     "text": [
      "Writing activities to SQLite3 database:\n",
      "0%  100%\n",
      "[#####] | ETA: 00:00:00\n",
      "Total time elapsed: 00:00:00\n"
     ]
    },
    {
     "name": "stdout",
     "output_type": "stream",
     "text": [
      "Title: Writing activities to SQLite3 database:\n",
      "  Started: 02/27/2018 10:52:25\n",
      "  Finished: 02/27/2018 10:52:26\n",
      "  Total time elapsed: 00:00:00\n",
      "  CPU %: 104.20\n",
      "  Memory %: 1.50\n"
     ]
    }
   ],
   "source": [
    "t_db.write({\n",
    "    (\"testdb\", \"Electricity production\"):{\n",
    "        'name':'Electricity, low voltage',\n",
    "        'unit': 'kWh', \n",
    "        'exchanges': [{\n",
    "                'input': ('testdb', 'Fuel production'),\n",
    "                'amount': 2,\n",
    "                'unit': 'kg',\n",
    "                'type': 'technosphere'\n",
    "            },{\n",
    "                'input': ('testdb', 'Carbon dioxide'),\n",
    "                'amount': 1,\n",
    "                'unit': 'kg',\n",
    "                'type': 'biosphere'\n",
    "            },{\n",
    "                'input': ('testdb', 'Sulphur dioxide'),\n",
    "                'amount': 0.1,\n",
    "                'unit': 'kg',\n",
    "                'type': 'biosphere'\n",
    "            },{\n",
    "                'input': ('testdb', 'Electricity production'), #important to write the same process name in output\n",
    "                'amount': 10,\n",
    "                'unit': 'kWh',\n",
    "                'type': 'production'\n",
    "            }]\n",
    "        },\n",
    "    ('testdb', 'Fuel production'):{\n",
    "        'name': 'Refined fuel',\n",
    "        'unit': 'kg',\n",
    "        'exchanges':[{\n",
    "                'input': ('testdb', 'Carbon dioxide'),\n",
    "                'amount': 10,\n",
    "                'unit': 'kg',\n",
    "                'type': 'biosphere'\n",
    "            },{\n",
    "                'input': ('testdb', 'Sulphur dioxide'),\n",
    "                'amount': 2,\n",
    "                'unit': 'kg',\n",
    "                'type': 'biosphere'\n",
    "            },{\n",
    "                'input': ('testdb', 'Crude oil'),\n",
    "                'amount': -50,\n",
    "                'unit': 'kg',\n",
    "                'type': 'biosphere'\n",
    "            },{\n",
    "                'input': ('testdb', 'Fuel production'),\n",
    "                'amount': 1,\n",
    "                'unit': 'kg',\n",
    "                'type': 'production'\n",
    "            }]\n",
    "    },\n",
    "    ('testdb', 'Carbon dioxide'):{'name': 'Carbon dioxide', 'unit':'kg', 'type': 'biosphere'},\n",
    "    ('testdb', 'Sulphur dioxide'):{'name': 'Sulphur dioxide', 'unit':'kg', 'type': 'biosphere'},\n",
    "    ('testdb', 'Crude oil'):{'name': 'Crude oil', 'unit':'kg', 'type': 'biosphere'}\n",
    "\n",
    "    })\n",
    "\n",
    "functional_unit = {t_db.get(\"Electricity production\") : 1}\n",
    "lca = bw.LCA(functional_unit) \n",
    "lca.lci()"
   ]
  },
  {
   "cell_type": "markdown",
   "metadata": {},
   "source": [
    "### Create reversed dictionnaries. They will return the row or column number of matrices and arrays that correspond to an activity, product, or elementary flow."
   ]
  },
  {
   "cell_type": "code",
   "execution_count": 4,
   "metadata": {},
   "outputs": [],
   "source": [
    "rev_act_dict, rev_product_dict, rev_bio_dict = lca.reverse_dict()"
   ]
  },
  {
   "cell_type": "markdown",
   "metadata": {},
   "source": [
    "### Check out the dictionnaries"
   ]
  },
  {
   "cell_type": "markdown",
   "metadata": {},
   "source": [
    "#### This is the dictionary of activities (columns in the technosphere matrix, supply and demand arrays) with the column number as key, and the activity reference as value"
   ]
  },
  {
   "cell_type": "code",
   "execution_count": 5,
   "metadata": {},
   "outputs": [
    {
     "name": "stdout",
     "output_type": "stream",
     "text": [
      "{0: ('testdb', 'Electricity production'), 1: ('testdb', 'Fuel production')}\n"
     ]
    }
   ],
   "source": [
    "print(rev_act_dict)"
   ]
  },
  {
   "cell_type": "markdown",
   "metadata": {},
   "source": [
    "### Or fancy-printed"
   ]
  },
  {
   "cell_type": "code",
   "execution_count": 6,
   "metadata": {},
   "outputs": [
    {
     "name": "stdout",
     "output_type": "stream",
     "text": [
      "Col. num. Activity\n",
      "0 Electricity production\n",
      "1 Fuel production\n"
     ]
    },
    {
     "data": {
      "text/plain": [
       "[None, None]"
      ]
     },
     "execution_count": 6,
     "metadata": {},
     "output_type": "execute_result"
    }
   ],
   "source": [
    "print(\"Col. num.\"+ \" \" + \"Activity\")\n",
    "[print(str(k)+\" \"+rev_act_dict[k][1]) for k in rev_act_dict]"
   ]
  },
  {
   "cell_type": "markdown",
   "metadata": {},
   "source": [
    "#### This is the dictionnary of products (which are supplied by activities), with the key being the row number in the technosphere, demand and supply arrays, and the value being the activity supplying the product."
   ]
  },
  {
   "cell_type": "code",
   "execution_count": 33,
   "metadata": {},
   "outputs": [
    {
     "data": {
      "text/plain": [
       "{0: ('testdb', 'Electricity production'), 1: ('testdb', 'Fuel production')}"
      ]
     },
     "execution_count": 33,
     "metadata": {},
     "output_type": "execute_result"
    }
   ],
   "source": [
    "rev_product_dict"
   ]
  },
  {
   "cell_type": "markdown",
   "metadata": {},
   "source": [
    "### Or, to see directly the product"
   ]
  },
  {
   "cell_type": "code",
   "execution_count": 34,
   "metadata": {},
   "outputs": [
    {
     "name": "stdout",
     "output_type": "stream",
     "text": [
      "Row num. Product\n",
      "0 'Electricity, low voltage' (kWh, None, None)\n",
      "1 'Refined fuel' (kg, None, None)\n"
     ]
    },
    {
     "data": {
      "text/plain": [
       "[None, None]"
      ]
     },
     "execution_count": 34,
     "metadata": {},
     "output_type": "execute_result"
    }
   ],
   "source": [
    "print(\"Row num.\"+\" \"+\"Product\")\n",
    "[print(str(k)+\" \"+str(bw.get_activity(rev_product_dict[k]))) for k in rev_product_dict]"
   ]
  },
  {
   "cell_type": "markdown",
   "metadata": {},
   "source": [
    "### And here is the dictionary of elementary flows (rows in the environmental matrix (B matrix)), with the key being the row number and the value being the elementary flow"
   ]
  },
  {
   "cell_type": "code",
   "execution_count": 35,
   "metadata": {},
   "outputs": [
    {
     "name": "stdout",
     "output_type": "stream",
     "text": [
      "Row num. Elementary flow\n",
      "0 'Carbon dioxide' (kg, None, None)\n",
      "1 'Sulphur dioxide' (kg, None, None)\n",
      "2 'Crude oil' (kg, None, None)\n"
     ]
    },
    {
     "data": {
      "text/plain": [
       "[None, None, None]"
      ]
     },
     "execution_count": 35,
     "metadata": {},
     "output_type": "execute_result"
    }
   ],
   "source": [
    "print(\"Row num.\"+\" \"+\"Elementary flow\")\n",
    "[print(str(k)+\" \"+str(bw.get_activity(rev_bio_dict[k]))) for k in rev_bio_dict]"
   ]
  },
  {
   "cell_type": "markdown",
   "metadata": {},
   "source": [
    "### When we have all that, we can check out the different matrices and arrays."
   ]
  },
  {
   "cell_type": "markdown",
   "metadata": {},
   "source": [
    "### Regarding exchanges between activities (technosphere matrix, or A matrix) we have modeled, who gives to who?"
   ]
  },
  {
   "cell_type": "code",
   "execution_count": 36,
   "metadata": {},
   "outputs": [],
   "source": [
    "tech_matrix=lca.technosphere_matrix.toarray()"
   ]
  },
  {
   "cell_type": "code",
   "execution_count": 37,
   "metadata": {},
   "outputs": [
    {
     "name": "stdout",
     "output_type": "stream",
     "text": [
      "Electricity production supplies 10.0 of 'Electricity, low voltage' (kWh, None, None)\n",
      "Fuel production uses 0.0 of 'Electricity, low voltage' (kWh, None, None)\n",
      "Electricity production uses -2.0 of 'Refined fuel' (kg, None, None)\n",
      "Fuel production supplies 1.0 of 'Refined fuel' (kg, None, None)\n"
     ]
    }
   ],
   "source": [
    "for r in range(0,tech_matrix.shape[0]):\n",
    "    for c in range(0,tech_matrix.shape[1]):\n",
    "        if tech_matrix[r, c]>0:\n",
    "            print(str(rev_act_dict[c][1])+\" supplies \"+ str(tech_matrix[r, c])+\" of \"+str(bw.get_activity(rev_product_dict[r])))\n",
    "        else:\n",
    "            print(str(rev_act_dict[c][1])+\" uses \"+ str(tech_matrix[r, c])+\" of \"+str(bw.get_activity(rev_product_dict[r])))"
   ]
  },
  {
   "cell_type": "markdown",
   "metadata": {},
   "source": [
    "### This seems to correspond with the activities created."
   ]
  },
  {
   "cell_type": "markdown",
   "metadata": {},
   "source": [
    "### Regarding the demand array: which product is demanded to fulfill the FU?"
   ]
  },
  {
   "cell_type": "code",
   "execution_count": 38,
   "metadata": {},
   "outputs": [
    {
     "name": "stdout",
     "output_type": "stream",
     "text": [
      "1.0 is demanded of 'Electricity, low voltage' (kWh, None, None)\n",
      "0.0 is demanded of 'Refined fuel' (kg, None, None)\n"
     ]
    }
   ],
   "source": [
    "demand_array=lca.demand_array.tolist()\n",
    "for r in demand_array:\n",
    "    print(\"{} is demanded of {}\".format(demand_array[demand_array.index(r)], bw.get_activity(rev_product_dict[demand_array.index(r)])))"
   ]
  },
  {
   "cell_type": "markdown",
   "metadata": {},
   "source": [
    "### This seems to make sense. It correspond to the activity and amount specified in the bw.lca() function"
   ]
  },
  {
   "cell_type": "markdown",
   "metadata": {},
   "source": [
    "### Regarding the supply array: which activities supply to fulfill the FU?"
   ]
  },
  {
   "cell_type": "code",
   "execution_count": 39,
   "metadata": {},
   "outputs": [
    {
     "name": "stdout",
     "output_type": "stream",
     "text": [
      "Electricity production supplies 0.1\n",
      "Fuel production supplies 0.2\n"
     ]
    }
   ],
   "source": [
    "supply_array=lca.supply_array.tolist()\n",
    "for r in supply_array:\n",
    "    print(\"{} supplies {}\".format(rev_product_dict[supply_array.index(r)][1],supply_array[supply_array.index(r)]))"
   ]
  },
  {
   "cell_type": "markdown",
   "metadata": {},
   "source": [
    "### Now, let's look at the calculated inventory and try to display the corresponding supplying activties as columns as the requested environmental flows as rows."
   ]
  },
  {
   "cell_type": "markdown",
   "metadata": {},
   "source": [
    "### The inventory given by the LCA object looks like this. It is hardly readable when it contains thousands of flows."
   ]
  },
  {
   "cell_type": "code",
   "execution_count": 40,
   "metadata": {},
   "outputs": [
    {
     "name": "stdout",
     "output_type": "stream",
     "text": [
      "  (0, 1)\t2.0\n",
      "  (0, 0)\t0.1\n",
      "  (1, 1)\t0.4\n",
      "  (1, 0)\t0.010000000149\n",
      "  (2, 1)\t-10.0\n"
     ]
    }
   ],
   "source": [
    "print(lca.inventory)"
   ]
  },
  {
   "cell_type": "markdown",
   "metadata": {},
   "source": [
    "### We turn it into a simple array for ease of access to the values"
   ]
  },
  {
   "cell_type": "code",
   "execution_count": 41,
   "metadata": {},
   "outputs": [],
   "source": [
    "inventory_matrix=lca.inventory.toarray()"
   ]
  },
  {
   "cell_type": "markdown",
   "metadata": {},
   "source": [
    "### And we loop through it, first row-wise, then column-wise"
   ]
  },
  {
   "cell_type": "code",
   "execution_count": 42,
   "metadata": {},
   "outputs": [
    {
     "name": "stdout",
     "output_type": "stream",
     "text": [
      "Electricity production emits 0.1 kg of Carbon dioxide\n",
      "Fuel production emits 2.0 kg of Carbon dioxide\n",
      "Electricity production emits 0.010000000149 kg of Sulphur dioxide\n",
      "Fuel production emits 0.4 kg of Sulphur dioxide\n",
      "Electricity production uses 0.0 kg of Crude oil\n",
      "Fuel production uses -10.0 kg of Crude oil\n"
     ]
    }
   ],
   "source": [
    "for r in range(0,inventory_matrix.shape[0]):\n",
    "    for c in range(0,inventory_matrix.shape[1]):\n",
    "        if inventory_matrix[r, c]>0:\n",
    "            print(str(rev_act_dict[c][1])+\" emits \"+ str(inventory_matrix[r, c])+\" \"+bw.get_activity(rev_bio_dict[r])[\"unit\"]+\" of \"+str(rev_bio_dict[r][1]))\n",
    "        else:\n",
    "            print(str(rev_act_dict[c][1])+\" uses \"+ str(inventory_matrix[r, c])+\" \"+bw.get_activity(rev_bio_dict[r])[\"unit\"]+\" of \"+str(rev_bio_dict[r][1]))"
   ]
  },
  {
   "cell_type": "code",
   "execution_count": null,
   "metadata": {},
   "outputs": [],
   "source": []
  }
 ],
 "metadata": {
  "kernelspec": {
   "display_name": "Python 3",
   "language": "python",
   "name": "python3"
  },
  "language_info": {
   "codemirror_mode": {
    "name": "ipython",
    "version": 3
   },
   "file_extension": ".py",
   "mimetype": "text/x-python",
   "name": "python",
   "nbconvert_exporter": "python",
   "pygments_lexer": "ipython3",
   "version": "3.7.0"
  }
 },
 "nbformat": 4,
 "nbformat_minor": 2
}
